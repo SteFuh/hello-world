{
  "nbformat": 4,
  "nbformat_minor": 0,
  "metadata": {
    "colab": {
      "name": "Assignment_3_Stephan_Fuhrmann.ipynb",
      "provenance": [],
      "collapsed_sections": [],
      "authorship_tag": "ABX9TyPMeI+dxMrIid83x6B8Megv",
      "include_colab_link": true
    },
    "kernelspec": {
      "name": "python3",
      "display_name": "Python 3"
    }
  },
  "cells": [
    {
      "cell_type": "markdown",
      "metadata": {
        "id": "view-in-github",
        "colab_type": "text"
      },
      "source": [
        "<a href=\"https://colab.research.google.com/github/SteFuh/hello-world/blob/master/Assignment_3_Stephan_Fuhrmann.ipynb\" target=\"_parent\"><img src=\"https://colab.research.google.com/assets/colab-badge.svg\" alt=\"Open In Colab\"/></a>"
      ]
    },
    {
      "cell_type": "code",
      "metadata": {
        "id": "jsm2BQE67k84"
      },
      "source": [
        "# first: import pyndas and matplotlib packages\n",
        "import pandas as pd\n",
        "import matplotlib.pyplot as plt"
      ],
      "execution_count": 1,
      "outputs": []
    },
    {
      "cell_type": "markdown",
      "metadata": {
        "id": "MXReOFmKDzKv"
      },
      "source": [
        "## importing data and preparing dataset: "
      ]
    },
    {
      "cell_type": "code",
      "metadata": {
        "id": "vplOevio8Bcx"
      },
      "source": [
        "# load datasets\n",
        "london = pd.read_csv(\"https://raw.githubusercontent.com/ds4geo/ds4geo/master/data/timeseries/meteo/London_weather_2015-19.csv\")\n",
        "singapore = pd.read_csv(\"https://raw.githubusercontent.com/ds4geo/ds4geo/master/data/timeseries/meteo/Singapore_weather_2015-19.csv\")"
      ],
      "execution_count": 2,
      "outputs": []
    },
    {
      "cell_type": "code",
      "metadata": {
        "id": "6L2icMMI-5u-",
        "outputId": "aed90921-cc2a-40ec-85f3-58978c323529",
        "colab": {
          "base_uri": "https://localhost:8080/"
        }
      },
      "source": [
        "#setting column \"date\" as index\n",
        "london.index = london[\"date\"]\n",
        "# check Dtype of index \n",
        "london.info()"
      ],
      "execution_count": 3,
      "outputs": [
        {
          "output_type": "stream",
          "text": [
            "<class 'pandas.core.frame.DataFrame'>\n",
            "Index: 1821 entries, 2015-01-01 to 2019-12-31\n",
            "Data columns (total 11 columns):\n",
            " #   Column              Non-Null Count  Dtype  \n",
            "---  ------              --------------  -----  \n",
            " 0   date                1821 non-null   object \n",
            " 1   mean_temp (deg C)   1821 non-null   float64\n",
            " 2   min_temp (deg C)    1821 non-null   float64\n",
            " 3   max_temp (deg C)    1821 non-null   float64\n",
            " 4   mean_pressure (mb)  1821 non-null   float64\n",
            " 5   mean_humidity (%)   1821 non-null   float64\n",
            " 6   mean_wind (ms-1)    1820 non-null   float64\n",
            " 7   precip_sum (mm)     1821 non-null   float64\n",
            " 8   month               1821 non-null   object \n",
            " 9   month-year          1821 non-null   object \n",
            " 10  year                1821 non-null   int64  \n",
            "dtypes: float64(7), int64(1), object(3)\n",
            "memory usage: 170.7+ KB\n"
          ],
          "name": "stdout"
        }
      ]
    },
    {
      "cell_type": "code",
      "metadata": {
        "id": "b9BOeE328PwX",
        "outputId": "509a11a9-94b2-457c-e042-2b83bafdac41",
        "colab": {
          "base_uri": "https://localhost:8080/"
        }
      },
      "source": [
        "# and convert Dtype to datetime: \n",
        "london[\"date\"] = pd.to_datetime(london.date)\n",
        "# check again to see if it worked\n",
        "london.info()"
      ],
      "execution_count": 4,
      "outputs": [
        {
          "output_type": "stream",
          "text": [
            "<class 'pandas.core.frame.DataFrame'>\n",
            "Index: 1821 entries, 2015-01-01 to 2019-12-31\n",
            "Data columns (total 11 columns):\n",
            " #   Column              Non-Null Count  Dtype         \n",
            "---  ------              --------------  -----         \n",
            " 0   date                1821 non-null   datetime64[ns]\n",
            " 1   mean_temp (deg C)   1821 non-null   float64       \n",
            " 2   min_temp (deg C)    1821 non-null   float64       \n",
            " 3   max_temp (deg C)    1821 non-null   float64       \n",
            " 4   mean_pressure (mb)  1821 non-null   float64       \n",
            " 5   mean_humidity (%)   1821 non-null   float64       \n",
            " 6   mean_wind (ms-1)    1820 non-null   float64       \n",
            " 7   precip_sum (mm)     1821 non-null   float64       \n",
            " 8   month               1821 non-null   object        \n",
            " 9   month-year          1821 non-null   object        \n",
            " 10  year                1821 non-null   int64         \n",
            "dtypes: datetime64[ns](1), float64(7), int64(1), object(2)\n",
            "memory usage: 170.7+ KB\n"
          ],
          "name": "stdout"
        }
      ]
    },
    {
      "cell_type": "code",
      "metadata": {
        "id": "27EbFSzc8ekJ",
        "outputId": "13d0dd9e-049b-4066-9b65-adb4e84ad29d",
        "colab": {
          "base_uri": "https://localhost:8080/"
        }
      },
      "source": [
        "# the same is done for singapore \n",
        "singapore.index = singapore[\"date\"]\n",
        "singapore[\"date\"] = pd.to_datetime(singapore.date)\n",
        "singapore.info()"
      ],
      "execution_count": 5,
      "outputs": [
        {
          "output_type": "stream",
          "text": [
            "<class 'pandas.core.frame.DataFrame'>\n",
            "Index: 1826 entries, 2015-01-01 to 2019-12-31\n",
            "Data columns (total 11 columns):\n",
            " #   Column              Non-Null Count  Dtype         \n",
            "---  ------              --------------  -----         \n",
            " 0   date                1826 non-null   datetime64[ns]\n",
            " 1   mean_temp (deg C)   1826 non-null   float64       \n",
            " 2   min_temp (deg C)    1826 non-null   float64       \n",
            " 3   max_temp (deg C)    1826 non-null   float64       \n",
            " 4   mean_pressure (mb)  1826 non-null   float64       \n",
            " 5   mean_humidity (%)   1826 non-null   float64       \n",
            " 6   mean_wind (ms-1)    1826 non-null   float64       \n",
            " 7   precip_sum (mm)     1826 non-null   float64       \n",
            " 8   month               1826 non-null   object        \n",
            " 9   month-year          1826 non-null   object        \n",
            " 10  year                1826 non-null   int64         \n",
            "dtypes: datetime64[ns](1), float64(7), int64(1), object(2)\n",
            "memory usage: 171.2+ KB\n"
          ],
          "name": "stdout"
        }
      ]
    },
    {
      "cell_type": "markdown",
      "metadata": {
        "id": "SOQvylmrDv9a"
      },
      "source": [
        "Let's have a quick look at the hottest temperature ever measured in the measurement period: \n"
      ]
    },
    {
      "cell_type": "code",
      "metadata": {
        "id": "uR0SYeF-_aCX",
        "outputId": "045d7d69-09ad-43fa-eed0-705e9149cf29",
        "colab": {
          "base_uri": "https://localhost:8080/"
        }
      },
      "source": [
        "# lets have a quick look at the hottest temperature ever measured in the measurement period: \n",
        "print(\"The hottest Temperature measured in London between 2015 and 2019 was\", london[\"max_temp (deg C)\"].max(),\"°C\",)\n",
        "print(\"The hottest Temperature measured in Singapore between 2015 and 2019 was\", singapore[\"max_temp (deg C)\"].max(),\"°C\",)"
      ],
      "execution_count": 6,
      "outputs": [
        {
          "output_type": "stream",
          "text": [
            "The hottest Temperature measured in London between 2015 and 2019 was 37.9 °C\n",
            "The hottest Temperature measured in Singapore between 2015 and 2019 was 35.0 °C\n"
          ],
          "name": "stdout"
        }
      ]
    },
    {
      "cell_type": "markdown",
      "metadata": {
        "id": "CBQig_7mEQNq"
      },
      "source": [
        "Thats suprising (at least for me)! Let's check out the coldest Temperature: "
      ]
    },
    {
      "cell_type": "code",
      "metadata": {
        "id": "hPiJ46cq-yz-",
        "outputId": "b46e4ac8-3301-47af-bd0d-fa4814e2bf9f",
        "colab": {
          "base_uri": "https://localhost:8080/"
        }
      },
      "source": [
        " print(\"The hottest Temperature measured in London between 2015 and 2019 was\", london[\"min_temp (deg C)\"].min(),\"°C\",)\n",
        "print(\"The hottest Temperature measured in Singapore between 2015 and 2019 was\", singapore[\"min_temp (deg C)\"].min(),\"°C\",)"
      ],
      "execution_count": 7,
      "outputs": [
        {
          "output_type": "stream",
          "text": [
            "The hottest Temperature measured in London between 2015 and 2019 was -8.2 °C\n",
            "The hottest Temperature measured in Singapore between 2015 and 2019 was 21.3 °C\n"
          ],
          "name": "stdout"
        }
      ]
    },
    {
      "cell_type": "markdown",
      "metadata": {
        "id": "p9i5m4pbLO4A"
      },
      "source": [
        "Creating a function that extracts the day of the year and returns it"
      ]
    },
    {
      "cell_type": "code",
      "metadata": {
        "id": "dCGQglE6GrXh"
      },
      "source": [
        "def frac(date):                                                              # returns a fractional day independent of the year\n",
        "  return date.dayofyear"
      ],
      "execution_count": 8,
      "outputs": []
    },
    {
      "cell_type": "markdown",
      "metadata": {
        "id": "FBPSLcdiJuMj"
      },
      "source": [
        "Next, we could individually create a column an additional column that contains the day of the year in the datasets: \n"
      ]
    },
    {
      "cell_type": "code",
      "metadata": {
        "id": "S7DzA51rCLB0"
      },
      "source": [
        "#london[\"dayofyear\"] = [frac(i) for i in london[\"date\"]]                     # creating a new column \"day of year\" in the two datasets \n",
        "#singapore[\"dayofyear\"] = [frac(i) for i in singapore[\"date\"]]"
      ],
      "execution_count": 9,
      "outputs": []
    },
    {
      "cell_type": "markdown",
      "metadata": {
        "id": "zWzuEtwdKJlS"
      },
      "source": [
        "or we define a function that does the same thing:"
      ]
    },
    {
      "cell_type": "code",
      "metadata": {
        "id": "sxEGKP4nHGpq"
      },
      "source": [
        "def dayofyear(dataframe):                                                \n",
        "   dataframe[\"dayofyear\"] = [frac(i) for i in dataframe[\"date\"]]              # here we call the function from before and put it in a for loop\n",
        "   return dataframe[\"dayofyear\"]                                              # the return statement makes the output of the function available in the global scope (outside of the function)"
      ],
      "execution_count": 10,
      "outputs": []
    },
    {
      "cell_type": "markdown",
      "metadata": {
        "id": "A5_2H-K4LAM6"
      },
      "source": [
        "and here we go: "
      ]
    },
    {
      "cell_type": "code",
      "metadata": {
        "id": "CVzh-BH-GHnw",
        "outputId": "a3ccd07f-86f3-4d22-a0c5-63e699e28bbe",
        "colab": {
          "base_uri": "https://localhost:8080/"
        }
      },
      "source": [
        "dayofyear(london)\n",
        "dayofyear(singapore)"
      ],
      "execution_count": 11,
      "outputs": [
        {
          "output_type": "execute_result",
          "data": {
            "text/plain": [
              "date\n",
              "2015-01-01      1\n",
              "2015-01-02      2\n",
              "2015-01-03      3\n",
              "2015-01-04      4\n",
              "2015-01-05      5\n",
              "             ... \n",
              "2019-12-27    361\n",
              "2019-12-28    362\n",
              "2019-12-29    363\n",
              "2019-12-30    364\n",
              "2019-12-31    365\n",
              "Name: dayofyear, Length: 1826, dtype: int64"
            ]
          },
          "metadata": {
            "tags": []
          },
          "execution_count": 11
        }
      ]
    },
    {
      "cell_type": "markdown",
      "metadata": {
        "id": "k6txIH9ZAOwj"
      },
      "source": [
        "Plotting the mean temperatures of London and Singapore"
      ]
    },
    {
      "cell_type": "code",
      "metadata": {
        "id": "M0_SOvsq5Y-5",
        "outputId": "856028ff-a3cf-431a-c9df-e8d4451a93ea",
        "colab": {
          "base_uri": "https://localhost:8080/",
          "height": 483
        }
      },
      "source": [
        "london.index = london[\"year\"]\n",
        "singapore.index = singapore[\"year\"]\n",
        "\n",
        "fig, ax = plt.subplots(figsize=(12,8))\n",
        "\n",
        "ax2 = ax.twiny()\n",
        "\n",
        "for individual_year in london[\"year\"].unique():\n",
        "  split = london.loc[individual_year]\n",
        "  ax.scatter(split[\"month\"], split[\"mean_temp (deg C)\"],color = \"gray\")\n",
        "\n",
        "for individual_year in singapore[\"year\"].unique():\n",
        "  split = singapore.loc[individual_year]\n",
        "  ax2.scatter(split[\"month\"], split[\"mean_temp (deg C)\"], color = \"blue\")\n",
        "  ax2.axis('off')\n",
        "\n",
        "ax.set_ylabel(\"Temperature (°C)\")\n",
        "plt.show()"
      ],
      "execution_count": 12,
      "outputs": [
        {
          "output_type": "display_data",
          "data": {
            "image/png": "[encoded data removed]",
            "text/plain": [
              "<Figure size 864x576 with 2 Axes>"
            ]
          },
          "metadata": {
            "tags": [],
            "needs_background": "light"
          }
        }
      ]
    }
  ]
}